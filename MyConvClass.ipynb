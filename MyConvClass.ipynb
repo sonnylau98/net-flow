{
  "nbformat": 4,
  "nbformat_minor": 0,
  "metadata": {
    "colab": {
      "provenance": [],
      "gpuType": "T4"
    },
    "kernelspec": {
      "name": "python3",
      "display_name": "Python 3"
    },
    "language_info": {
      "name": "python"
    },
    "accelerator": "GPU"
  },
  "cells": [
    {
      "cell_type": "code",
      "execution_count": null,
      "metadata": {
        "id": "zjjC27zH_xcm"
      },
      "outputs": [],
      "source": [
        "import tensorflow as tf\n",
        "from tensorflow import keras\n",
        "from tensorflow.keras import layers, models\n",
        "from tensorflow.keras.layers import Layer\n",
        "from tensorflow.keras.preprocessing import image_dataset_from_directory"
      ]
    },
    {
      "cell_type": "code",
      "execution_count": null,
      "metadata": {
        "id": "vILtv9EUI8dd"
      },
      "outputs": [],
      "source": [
        "def convert_to_float(image, label):\n",
        "    image = tf.image.convert_image_dtype(image, dtype=tf.float32)\n",
        "    return image, label\n",
        "\n",
        "AUTOTUNE = tf.data.experimental.AUTOTUNE"
      ]
    },
    {
      "cell_type": "code",
      "execution_count": null,
      "metadata": {
        "id": "2SgZLxLEJOJe"
      },
      "outputs": [],
      "source": [
        "data_dir = '/content/IMAGES'\n",
        "\n",
        "validation_split = 0.3\n",
        "seed = 125\n",
        "image_size = [224, 224]\n",
        "batch_size = 1\n",
        "epochs = 30\n",
        "lr = 0.0002"
      ]
    },
    {
      "cell_type": "code",
      "execution_count": null,
      "metadata": {
        "colab": {
          "base_uri": "https://localhost:8080/"
        },
        "id": "0AjbxVa8_OO_",
        "outputId": "d25bf0a8-4630-4c9a-8248-2bb60d09bf88"
      },
      "outputs": [
        {
          "output_type": "stream",
          "name": "stdout",
          "text": [
            "Found 75 files belonging to 9 classes.\n",
            "Using 53 files for training.\n",
            "Found 75 files belonging to 9 classes.\n",
            "Using 22 files for validation.\n"
          ]
        }
      ],
      "source": [
        "ds_train_ = image_dataset_from_directory(\n",
        "    data_dir,\n",
        "    validation_split=validation_split,\n",
        "    subset=\"training\",\n",
        "    seed=seed,\n",
        "    labels='inferred',\n",
        "    label_mode='categorical',\n",
        "    image_size=image_size,\n",
        "    interpolation='nearest',\n",
        "    batch_size=batch_size,\n",
        "    shuffle=True,\n",
        ")\n",
        "\n",
        "ds_valid_ = image_dataset_from_directory(\n",
        "    data_dir,\n",
        "    validation_split=validation_split,\n",
        "    subset=\"validation\",\n",
        "    seed=seed,\n",
        "    labels='inferred',\n",
        "    label_mode='categorical',\n",
        "    image_size=image_size,\n",
        "    interpolation='nearest',\n",
        "    batch_size=batch_size,\n",
        "    shuffle=True,\n",
        ")\n",
        "\n",
        "ds_train = (\n",
        "    ds_train_\n",
        "    .map(convert_to_float)\n",
        "    .cache()\n",
        "    .prefetch(buffer_size=AUTOTUNE)\n",
        ")\n",
        "\n",
        "ds_valid = (\n",
        "    ds_valid_\n",
        "    .map(convert_to_float)\n",
        "    .cache()\n",
        "    .prefetch(buffer_size=AUTOTUNE)\n",
        ")"
      ]
    },
    {
      "cell_type": "code",
      "execution_count": null,
      "metadata": {
        "id": "YkXLNspc63oa"
      },
      "outputs": [],
      "source": [
        "class MyConvClass(tf.keras.Model):\n",
        "    def __init__(self):\n",
        "        super(MyConvClass, self).__init__()\n",
        "        self.conv = models.Sequential([\n",
        "                        tf.keras.layers.Conv2D(256, (3, 3), activation='relu', padding='same', input_shape=(224, 224, 3)),\n",
        "                        tf.keras.layers.Conv2D(256, (3, 3), activation='relu', padding='same'),\n",
        "                        tf.keras.layers.MaxPooling2D((64, 64), strides=(64, 64)),\n",
        "                        tf.keras.layers.Flatten(),\n",
        "                        ])\n",
        "        self.classifier = models.Sequential([\n",
        "                            layers.Dense(units = 512, activation='tanh'),\n",
        "                            layers.Dropout(rate = 0.5),\n",
        "                            layers.Dense(units = 256, activation='tanh'),\n",
        "                            layers.Dense(units = 9, activation='softmax') # Totally two classes, so units = 2\n",
        "                            ])\n",
        "\n",
        "    def call(self, inputs, training=False):\n",
        "          inputs = self.conv(inputs)\n",
        "          outputs = self.classifier(inputs)\n",
        "          return outputs"
      ]
    },
    {
      "cell_type": "code",
      "execution_count": null,
      "metadata": {
        "id": "ZCEEQMtuA2OX"
      },
      "outputs": [],
      "source": [
        "model = MyConvClass()\n",
        "model.compile(optimizer = tf.keras.optimizers.Adam(learning_rate=lr),\n",
        "              loss=tf.keras.losses.CategoricalCrossentropy(),\n",
        "              metrics=['accuracy'])"
      ]
    },
    {
      "cell_type": "code",
      "execution_count": null,
      "metadata": {
        "colab": {
          "base_uri": "https://localhost:8080/"
        },
        "id": "JfKvT7-E_fnU",
        "outputId": "3a460638-0e3b-483d-bd19-422def7d81e7"
      },
      "outputs": [
        {
          "output_type": "stream",
          "name": "stdout",
          "text": [
            "Epoch 1/30\n",
            "53/53 [==============================] - 4s 39ms/step - loss: 2.3800 - accuracy: 0.1132 - val_loss: 2.1233 - val_accuracy: 0.1364\n",
            "Epoch 2/30\n",
            "53/53 [==============================] - 2s 32ms/step - loss: 2.1471 - accuracy: 0.2830 - val_loss: 1.9533 - val_accuracy: 0.3182\n",
            "Epoch 3/30\n",
            "53/53 [==============================] - 2s 35ms/step - loss: 1.8679 - accuracy: 0.3019 - val_loss: 1.7394 - val_accuracy: 0.3182\n",
            "Epoch 4/30\n",
            "53/53 [==============================] - 2s 33ms/step - loss: 1.6538 - accuracy: 0.4340 - val_loss: 1.4870 - val_accuracy: 0.4545\n",
            "Epoch 5/30\n",
            "53/53 [==============================] - 2s 33ms/step - loss: 1.5564 - accuracy: 0.4528 - val_loss: 1.3632 - val_accuracy: 0.5000\n",
            "Epoch 6/30\n",
            "53/53 [==============================] - 2s 33ms/step - loss: 1.2966 - accuracy: 0.6792 - val_loss: 1.1804 - val_accuracy: 0.5000\n",
            "Epoch 7/30\n",
            "53/53 [==============================] - 2s 33ms/step - loss: 1.1709 - accuracy: 0.6415 - val_loss: 1.0521 - val_accuracy: 0.5455\n",
            "Epoch 8/30\n",
            "53/53 [==============================] - 2s 33ms/step - loss: 0.9448 - accuracy: 0.6792 - val_loss: 0.9422 - val_accuracy: 0.5909\n",
            "Epoch 9/30\n",
            "53/53 [==============================] - 2s 34ms/step - loss: 0.8731 - accuracy: 0.6604 - val_loss: 0.8124 - val_accuracy: 0.8182\n",
            "Epoch 10/30\n",
            "53/53 [==============================] - 2s 33ms/step - loss: 0.6800 - accuracy: 0.7736 - val_loss: 0.6538 - val_accuracy: 0.8182\n",
            "Epoch 11/30\n",
            "53/53 [==============================] - 2s 33ms/step - loss: 0.6509 - accuracy: 0.6792 - val_loss: 0.5415 - val_accuracy: 0.8636\n",
            "Epoch 12/30\n",
            "53/53 [==============================] - 2s 33ms/step - loss: 0.5433 - accuracy: 0.8302 - val_loss: 0.4193 - val_accuracy: 0.9091\n",
            "Epoch 13/30\n",
            "53/53 [==============================] - 2s 33ms/step - loss: 0.4145 - accuracy: 0.8491 - val_loss: 0.3665 - val_accuracy: 0.9091\n",
            "Epoch 14/30\n",
            "53/53 [==============================] - 2s 33ms/step - loss: 0.3265 - accuracy: 0.9057 - val_loss: 0.3461 - val_accuracy: 0.9091\n",
            "Epoch 15/30\n",
            "53/53 [==============================] - 2s 36ms/step - loss: 0.2800 - accuracy: 0.9245 - val_loss: 0.2813 - val_accuracy: 0.9091\n",
            "Epoch 16/30\n",
            "53/53 [==============================] - 2s 33ms/step - loss: 0.3020 - accuracy: 0.8868 - val_loss: 0.2053 - val_accuracy: 0.9545\n",
            "Epoch 17/30\n",
            "53/53 [==============================] - 2s 33ms/step - loss: 0.2119 - accuracy: 0.9434 - val_loss: 0.1351 - val_accuracy: 1.0000\n",
            "Epoch 18/30\n",
            "53/53 [==============================] - 2s 33ms/step - loss: 0.1894 - accuracy: 0.9434 - val_loss: 0.1105 - val_accuracy: 1.0000\n",
            "Epoch 19/30\n",
            "53/53 [==============================] - 2s 33ms/step - loss: 0.1276 - accuracy: 0.9434 - val_loss: 0.1013 - val_accuracy: 1.0000\n",
            "Epoch 20/30\n",
            "53/53 [==============================] - 2s 33ms/step - loss: 0.1201 - accuracy: 0.9434 - val_loss: 0.1584 - val_accuracy: 0.9545\n",
            "Epoch 21/30\n",
            "53/53 [==============================] - 2s 35ms/step - loss: 0.1149 - accuracy: 0.9623 - val_loss: 0.1207 - val_accuracy: 1.0000\n",
            "Epoch 22/30\n",
            "53/53 [==============================] - 2s 33ms/step - loss: 0.0958 - accuracy: 0.9623 - val_loss: 0.0719 - val_accuracy: 1.0000\n",
            "Epoch 23/30\n",
            "53/53 [==============================] - 2s 33ms/step - loss: 0.0693 - accuracy: 1.0000 - val_loss: 0.0738 - val_accuracy: 1.0000\n",
            "Epoch 24/30\n",
            "53/53 [==============================] - 2s 33ms/step - loss: 0.1090 - accuracy: 0.9623 - val_loss: 0.0558 - val_accuracy: 1.0000\n",
            "Epoch 25/30\n",
            "53/53 [==============================] - 2s 33ms/step - loss: 0.0508 - accuracy: 1.0000 - val_loss: 0.0498 - val_accuracy: 1.0000\n",
            "Epoch 26/30\n",
            "53/53 [==============================] - 2s 33ms/step - loss: 0.0325 - accuracy: 1.0000 - val_loss: 0.0457 - val_accuracy: 1.0000\n",
            "Epoch 27/30\n",
            "53/53 [==============================] - 2s 33ms/step - loss: 0.0315 - accuracy: 1.0000 - val_loss: 0.0489 - val_accuracy: 1.0000\n",
            "Epoch 28/30\n",
            "53/53 [==============================] - 2s 34ms/step - loss: 0.0219 - accuracy: 1.0000 - val_loss: 0.0340 - val_accuracy: 1.0000\n",
            "Epoch 29/30\n",
            "53/53 [==============================] - 2s 33ms/step - loss: 0.0232 - accuracy: 1.0000 - val_loss: 0.0397 - val_accuracy: 1.0000\n",
            "Epoch 30/30\n",
            "53/53 [==============================] - 2s 33ms/step - loss: 0.0223 - accuracy: 1.0000 - val_loss: 0.0661 - val_accuracy: 0.9545\n"
          ]
        }
      ],
      "source": [
        "history = model.fit(ds_train, validation_data=ds_valid, epochs=epochs)"
      ]
    },
    {
      "cell_type": "code",
      "execution_count": null,
      "metadata": {
        "id": "PR7DgiTQFcH5"
      },
      "outputs": [],
      "source": [
        "model.save('/content/my_model.keras')"
      ]
    }
  ]
}